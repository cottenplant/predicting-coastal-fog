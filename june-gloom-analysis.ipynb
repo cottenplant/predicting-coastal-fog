{
 "cells": [
  {
   "cell_type": "markdown",
   "metadata": {},
   "source": [
    "## Import packages and variables\n",
    "First we import some visualization libraries. For ease of reading of the Jupyter Notebook, cleaning and feature engineering have been consolidated into june_gloom.py script, from which we import the prepared dataframes."
   ]
  },
  {
   "cell_type": "code",
   "execution_count": 20,
   "metadata": {},
   "outputs": [],
   "source": [
    "%matplotlib inline\n",
    "import numpy as np\n",
    "import pandas as pd\n",
    "import matplotlib.pyplot as plt\n",
    "import seaborn as sns"
   ]
  },
  {
   "cell_type": "code",
   "execution_count": 2,
   "metadata": {},
   "outputs": [],
   "source": [
    "import june_gloom\n",
    "june_gloom.init()\n",
    "june_gloom.noaa_clean()\n",
    "june_gloom.feature_sst_anomaly()\n",
    "from june_gloom import df_lax, df_enso_sst"
   ]
  },
  {
   "cell_type": "markdown",
   "metadata": {},
   "source": [
    "Let's take a quick peek at our dataframe to make sure everthing loaded properly.\n",
    "\n",
    "We can see the time format is correct (YYYY-MM-DD) and preview our columns. Note the 'FRSHTT' column; the NOAA data are encoded either '0' or '1' for each of the following events: \"Fog, Rain, Snow, Hail, Thunder, Tornado\" (GSOD_DESC.txt)"
   ]
  },
  {
   "cell_type": "code",
   "execution_count": 13,
   "metadata": {},
   "outputs": [
    {
     "name": "stdout",
     "output_type": "stream",
     "text": [
      "    YEARMODA  TEMP  DEWP     SLP     STP  VISIB  WDSP  MXSPD   GUST   MAX  \\\n",
      "0 1973-01-01  58.6  12.9  1018.7  1015.1   25.9   8.7   14.0   28.9  66.9   \n",
      "1 1973-01-02  54.7  27.3  1017.4  1013.8   19.1   5.6   10.1  999.9  64.0   \n",
      "2 1973-01-03  53.3  42.4  1015.7  1012.1   22.1   7.1   18.1   22.9  59.0   \n",
      "\n",
      "    MIN  PRCP   SNDP  FRSHTT  month  year  dummy  sst_anomaly  \n",
      "0  52.0   0.0  999.9       0      1  1973      1          1.8  \n",
      "1  45.0   0.0  999.9       0      1  1973      1          1.8  \n",
      "2  48.0   0.0  999.9   10000      1  1973      1          1.8  \n",
      "\n",
      "\n",
      "\n",
      "        YEARMODA  TEMP  DEWP     SLP     STP  VISIB  WDSP  MXSPD   GUST   MAX  \\\n",
      "16585 2018-05-30  62.5  56.0  1011.0   999.4    8.9   6.8   11.1  999.9  69.1   \n",
      "16586 2018-05-31  64.6  55.4  1012.3  1000.8    9.2   8.1   13.0   18.1  70.0   \n",
      "16587 2018-06-01  63.4  53.7  1014.4  1002.7    9.4   6.6   13.0  999.9  70.0   \n",
      "\n",
      "        MIN  PRCP   SNDP  FRSHTT  month  year  dummy  sst_anomaly  \n",
      "16585  60.1   0.0  999.9   10000      5  2018      1          NaN  \n",
      "16586  60.1   0.0  999.9       0      5  2018      1          NaN  \n",
      "16587  57.0   0.0  999.9       0      6  2018      1          NaN  \n"
     ]
    }
   ],
   "source": [
    "print(df_lax.head(3))\n",
    "print('\\n\\n')\n",
    "print(df_lax.tail(3))"
   ]
  },
  {
   "cell_type": "markdown",
   "metadata": {},
   "source": [
    "We have 16,588 days of data to play with. Woohoo!"
   ]
  },
  {
   "cell_type": "code",
   "execution_count": 16,
   "metadata": {},
   "outputs": [
    {
     "name": "stdout",
     "output_type": "stream",
     "text": [
      "<class 'pandas.core.frame.DataFrame'>\n",
      "RangeIndex: 16588 entries, 0 to 16587\n",
      "Data columns (total 18 columns):\n",
      "YEARMODA       16588 non-null datetime64[ns]\n",
      "TEMP           16588 non-null float64\n",
      "DEWP           16588 non-null float64\n",
      "SLP            16588 non-null float64\n",
      "STP            16588 non-null float64\n",
      "VISIB          16588 non-null float64\n",
      "WDSP           16588 non-null float64\n",
      "MXSPD          16588 non-null float64\n",
      "GUST           16588 non-null float64\n",
      "MAX            16588 non-null float64\n",
      "MIN            16588 non-null float64\n",
      "PRCP           16588 non-null float64\n",
      "SNDP           16588 non-null float64\n",
      "FRSHTT         16588 non-null int64\n",
      "month          16588 non-null int64\n",
      "year           16588 non-null int64\n",
      "dummy          16588 non-null int64\n",
      "sst_anomaly    16556 non-null float64\n",
      "dtypes: datetime64[ns](1), float64(13), int64(4)\n",
      "memory usage: 2.3 MB\n"
     ]
    }
   ],
   "source": [
    "df_lax.info()"
   ]
  },
  {
   "cell_type": "markdown",
   "metadata": {},
   "source": [
    "As we can see below, the overwhelming majority of weather events observed at Los Angeles National Airport between 1973 and 2018 was 'Sun'. Sanity, check. The next most common was 'Fog', followed by 'Rain'."
   ]
  },
  {
   "cell_type": "code",
   "execution_count": 17,
   "metadata": {},
   "outputs": [
    {
     "name": "stdout",
     "output_type": "stream",
     "text": [
      "0         10009\n",
      "100000     4251\n",
      "10000      1169\n",
      "110000      958\n",
      "10010       106\n",
      "110010       61\n",
      "10            8\n",
      "10110         4\n",
      "10100         4\n",
      "110100        3\n",
      "1             3\n",
      "100010        2\n",
      "110110        2\n",
      "11000         2\n",
      "111100        1\n",
      "1000          1\n",
      "111000        1\n",
      "11110         1\n",
      "110011        1\n",
      "11100         1\n",
      "Name: FRSHTT, dtype: int64\n"
     ]
    }
   ],
   "source": [
    "print(df_lax['FRSHTT'].value_counts())"
   ]
  },
  {
   "cell_type": "markdown",
   "metadata": {},
   "source": [
    "Lets slice up the dataframe according to weather events for ease:"
   ]
  },
  {
   "cell_type": "code",
   "execution_count": 18,
   "metadata": {},
   "outputs": [],
   "source": [
    "df_lax_fog = df_lax[df_lax['FRSHTT']==100000]\n",
    "df_lax_rain = df_lax[df_lax['FRSHTT']==10000]\n",
    "df_lax_sun = df_lax[df_lax['FRSHTT']==0]"
   ]
  },
  {
   "cell_type": "markdown",
   "metadata": {},
   "source": [
    "## Exploratory data analysis\n",
    "Just to get a few basic ideas of what we're working with, we can plot a few histograms to see what's going on."
   ]
  },
  {
   "cell_type": "code",
   "execution_count": 22,
   "metadata": {},
   "outputs": [
    {
     "data": {
      "text/plain": [
       "YEARMODA       1169\n",
       "TEMP           1169\n",
       "DEWP           1169\n",
       "SLP            1169\n",
       "STP            1169\n",
       "VISIB          1169\n",
       "WDSP           1169\n",
       "MXSPD          1169\n",
       "GUST           1169\n",
       "MAX            1169\n",
       "MIN            1169\n",
       "PRCP           1169\n",
       "SNDP           1169\n",
       "FRSHTT         1169\n",
       "month          1169\n",
       "year           1169\n",
       "dummy          1169\n",
       "sst_anomaly    1164\n",
       "dtype: int64"
      ]
     },
     "execution_count": 22,
     "metadata": {},
     "output_type": "execute_result"
    }
   ],
   "source": [
    "df_lax_"
   ]
  },
  {
   "cell_type": "code",
   "execution_count": null,
   "metadata": {},
   "outputs": [],
   "source": []
  },
  {
   "cell_type": "code",
   "execution_count": null,
   "metadata": {},
   "outputs": [],
   "source": []
  },
  {
   "cell_type": "code",
   "execution_count": null,
   "metadata": {},
   "outputs": [],
   "source": []
  }
 ],
 "metadata": {
  "kernelspec": {
   "display_name": "Python 3",
   "language": "python",
   "name": "python3"
  },
  "language_info": {
   "codemirror_mode": {
    "name": "ipython",
    "version": 3
   },
   "file_extension": ".py",
   "mimetype": "text/x-python",
   "name": "python",
   "nbconvert_exporter": "python",
   "pygments_lexer": "ipython3",
   "version": "3.6.5"
  }
 },
 "nbformat": 4,
 "nbformat_minor": 2
}
